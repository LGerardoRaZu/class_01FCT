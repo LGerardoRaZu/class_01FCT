{
 "cells": [
  {
   "cell_type": "markdown",
   "metadata": {},
   "source": [
    "# Bienvenido a Generic Mapping Tools!"
   ]
  },
  {
   "cell_type": "markdown",
   "metadata": {},
   "source": [
    "<img style=\"float: right;\" src=\"https://www.generic-mapping-tools.org/_static/gmt-logo.png\" alt=\"GMT logo\" width=\"250\"/>\n",
    "\n",
    "GMT es una colección de herramientas de código abierto en línea de comandos para la manipulación de conjuntos de datos geográficos y cartesianos (incluyendo el filtrado, el ajuste de tendencias, cuadrícula, proyección, etc.) y la producción de ilustraciones de alta calidad que van desde simples gráficos *x-y* y mapas de contorno hasta superficies iluminadas artificialmente y vistas en perspectiva 3D. Admite muchas proyecciones y transformaciones de mapas e incluye datos de apoyo como líneas de costa, ríos y fronteras políticas y, opcionalmente, polígonos de países."
   ]
  },
  {
   "cell_type": "markdown",
   "metadata": {
    "tags": []
   },
   "source": [
    "## Prueba en línea GMT, PyGMT, y GMT.jl"
   ]
  },
  {
   "cell_type": "markdown",
   "metadata": {},
   "source": [
    "Este ambiente *Jupyter lab* tiene las ultimas verisiones de GMT, PyGMT, and GMT.jl instaladas. \n",
    "\n",
    "Puede probarlos **todos en un solo lugar** sin necesidad de una instalación adicional.  \n",
    "\n",
    "- [Prueba comandos GMT usando bash](./using-bash.ipynb)\n",
    "- [Prueba PyGMT usando Python](./using-python.ipynb)\n",
    "- [Prueba GMT.jl usando Julia](./using-julia.ipynb)"
   ]
  },
  {
   "cell_type": "markdown",
   "metadata": {},
   "source": [
    "## Recursos de aprendizaje"
   ]
  },
  {
   "cell_type": "markdown",
   "metadata": {},
   "source": [
    "- Sitio web de GMT: https://www.generic-mapping-tools.org/\n",
    "- Documentación de GMT: https://docs.generic-mapping-tools.org/\n",
    "- GMT Community Forum: https://forum.generic-mapping-tools.org/\n",
    "- Sitio web de PyGMT: https://www.pygmt.org/\n",
    "- Sitio web de GMT.jl: https://www.generic-mapping-tools.org/GMT.jl/\n"
   ]
  },
  {
   "cell_type": "code",
   "execution_count": null,
   "metadata": {},
   "outputs": [],
   "source": []
  }
 ],
 "metadata": {
  "kernelspec": {
   "display_name": "Python 3 (ipykernel)",
   "language": "python",
   "name": "python3"
  },
  "language_info": {
   "codemirror_mode": {
    "name": "ipython",
    "version": 3
   },
   "file_extension": ".py",
   "mimetype": "text/x-python",
   "name": "python",
   "nbconvert_exporter": "python",
   "pygments_lexer": "ipython3",
   "version": "3.8.5"
  }
 },
 "nbformat": 4,
 "nbformat_minor": 4
}
